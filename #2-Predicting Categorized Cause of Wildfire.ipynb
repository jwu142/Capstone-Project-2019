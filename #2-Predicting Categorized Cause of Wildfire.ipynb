{
 "cells": [
  {
   "cell_type": "code",
   "execution_count": 1,
   "metadata": {},
   "outputs": [],
   "source": [
    "import sqlite3\n",
    "import numpy as np\n",
    "import matplotlib.pyplot as plt\n",
    "import pandas as pd\n",
    "\n",
    "from sklearn.model_selection import train_test_split\n",
    "from sklearn.neighbors import KNeighborsClassifier\n",
    "from sklearn import preprocessing\n",
    "\n",
    "import warnings\n",
    "warnings.filterwarnings(\"ignore\")"
   ]
  },
  {
   "cell_type": "markdown",
   "metadata": {},
   "source": [
    "<h1 align=\"center\"> \n",
    "Predicting the Cause of Wildfires \n",
    "</h1> \n",
    "<h2 align=\"center\"> \n",
    "#2-Predicting Categorized Cause of Wildfire\n",
    "</h2>\n",
    "<h3 align=\"center\"> \n",
    "DATS 6501_10, Spring 2019, Capstone (Machine Learning)\n",
    "</h3>\n",
    "<h4 align=\"center\"> \n",
    "Author: Jiajun Wu\n",
    "</h4>"
   ]
  },
  {
   "cell_type": "markdown",
   "metadata": {},
   "source": [
    "### Problem definition and motivation\n",
    "We chosen to explore Spatial wildfire occurrence data for the United States, 1992-2015, which consists of 1,880,465 records and 39 attributes. We plan to use a data science approach to analyzing the wildfire data in order to predict the cause of wildfire, based on the variety of features in the database. Our motivation for this project is tov apply the machine learing models we have learned in class onto a real-world data set. \n",
    "\n",
    "### Proposed method, language, and package for implementation\n",
    "The project aims to use Python to analyze the wildfire data. Specific packages to be used are Numpy, Pandas, and Scikit-learn. We will use Matplotlib for visualizations. For the methods the team plans to use to make our predictor, we’ll be trying neural net, and then two methods covered later in class: Random Forest and Support Vector Machine (SVM).\n",
    "\n",
    "### Link to the data\n",
    "https://www.fs.usda.gov/rds/archive/Product/RDS-2013-0009.4/\n",
    "\n",
    "\n",
    "#### Part 1: import libraries and data, convert dates to Gregorian format\n",
    "#### Part 2: EDA\n",
    "#### Part 3: Use machine learning to predict the cause of the fires\n",
    "#### Part 4: Build a system that predicts if the fire was malicious\n",
    "\n",
    "\n"
   ]
  },
  {
   "cell_type": "markdown",
   "metadata": {},
   "source": [
    "# Data Preprocess \n",
    "### Same like \"#1-Predicting Uncategorized Cause of Wildfire\""
   ]
  },
  {
   "cell_type": "code",
   "execution_count": 2,
   "metadata": {},
   "outputs": [],
   "source": [
    "#Load the data \n",
    "sqlite_file = \"FPA_FOD_20170508.sqlite\"\n",
    "conn=sqlite3.connect(sqlite_file)\n",
    "c = conn.cursor()\n",
    "fires = pd.read_sql_query(\"SELECT * FROM fires\", conn)"
   ]
  },
  {
   "cell_type": "code",
   "execution_count": 3,
   "metadata": {},
   "outputs": [],
   "source": [
    "#Julian Date format to Gregorian dates\n",
    "fires['DATE'] = pd.to_datetime(fires['DISCOVERY_DATE'] - pd.Timestamp(0).to_julian_date(), unit='D')\n",
    "fires['MONTH'] = pd.DatetimeIndex(fires['DATE']).month\n",
    "fires['DAY_OF_WEEK'] = fires['DATE'].dt.weekday_name"
   ]
  },
  {
   "cell_type": "code",
   "execution_count": 4,
   "metadata": {},
   "outputs": [
    {
     "data": {
      "text/plain": [
       "Index(['OBJECTID', 'FOD_ID', 'FPA_ID', 'SOURCE_SYSTEM_TYPE', 'SOURCE_SYSTEM',\n",
       "       'NWCG_REPORTING_AGENCY', 'NWCG_REPORTING_UNIT_ID',\n",
       "       'NWCG_REPORTING_UNIT_NAME', 'SOURCE_REPORTING_UNIT',\n",
       "       'SOURCE_REPORTING_UNIT_NAME', 'LOCAL_FIRE_REPORT_ID',\n",
       "       'LOCAL_INCIDENT_ID', 'FIRE_CODE', 'FIRE_NAME',\n",
       "       'ICS_209_INCIDENT_NUMBER', 'ICS_209_NAME', 'MTBS_ID', 'MTBS_FIRE_NAME',\n",
       "       'COMPLEX_NAME', 'FIRE_YEAR', 'DISCOVERY_DATE', 'DISCOVERY_DOY',\n",
       "       'DISCOVERY_TIME', 'STAT_CAUSE_CODE', 'STAT_CAUSE_DESCR', 'CONT_DATE',\n",
       "       'CONT_DOY', 'CONT_TIME', 'FIRE_SIZE', 'FIRE_SIZE_CLASS', 'LATITUDE',\n",
       "       'LONGITUDE', 'OWNER_CODE', 'OWNER_DESCR', 'STATE', 'COUNTY',\n",
       "       'FIPS_CODE', 'FIPS_NAME', 'Shape', 'DATE', 'MONTH', 'DAY_OF_WEEK'],\n",
       "      dtype='object')"
      ]
     },
     "execution_count": 4,
     "metadata": {},
     "output_type": "execute_result"
    }
   ],
   "source": [
    "fires.columns"
   ]
  },
  {
   "cell_type": "code",
   "execution_count": 5,
   "metadata": {},
   "outputs": [
    {
     "name": "stdout",
     "output_type": "stream",
     "text": [
      "Number of rows after removing rows with missing values: 1202317\n"
     ]
    }
   ],
   "source": [
    "#Select necessary columns \n",
    "df = fires[['STAT_CAUSE_DESCR','FIRE_YEAR','COUNTY','LATITUDE','LONGITUDE','FIRE_SIZE','FIRE_SIZE_CLASS','MONTH','DAY_OF_WEEK','STATE','DATE']]\n",
    "#Clean the Data\n",
    "df.replace('?', np.NaN, inplace=True)\n",
    "df.dropna(how='any', inplace=True)\n",
    "print('Number of rows after removing rows with missing values: ' + str(df.shape[0]))"
   ]
  },
  {
   "cell_type": "markdown",
   "metadata": {},
   "source": [
    "# Categorize the cause to accident, human-caused and other. "
   ]
  },
  {
   "cell_type": "code",
   "execution_count": 6,
   "metadata": {
    "scrolled": false
   },
   "outputs": [
    {
     "name": "stdout",
     "output_type": "stream",
     "text": [
      "three Categories: \n",
      "STAT_CAUSE_DESCR\n",
      "accident        198629\n",
      "human_caused    671577\n",
      "other           332111\n",
      "Name: STAT_CAUSE_DESCR, dtype: int64\n"
     ]
    }
   ],
   "source": [
    "def cat3 (cats):\n",
    "    if cats in ['Lightning','Structure','Powerline','Railroad']:\n",
    "        return 'accident'\n",
    "    elif cats in ['Arson','Smoking','Children','Campfire','Equipment Use','Debris Burning','Fireworks']:\n",
    "        return 'human_caused'\n",
    "    else:\n",
    "        return 'other'\n",
    "\n",
    "# Make two dataframes \n",
    "df3cats = df.copy() # make a copy to keep things neat\n",
    "df3cats['STAT_CAUSE_DESCR'] = df3cats['STAT_CAUSE_DESCR'].apply(cat3)\n",
    "\n",
    "\n",
    "categorizeCAUSE3Cats = df3cats.groupby('STAT_CAUSE_DESCR').STAT_CAUSE_DESCR.count()\n",
    "print('three Categories: ')\n",
    "print(categorizeCAUSE3Cats.head())\n",
    "\n",
    "#df3cats.head(10)"
   ]
  },
  {
   "cell_type": "code",
   "execution_count": null,
   "metadata": {},
   "outputs": [],
   "source": [
    "#df3cats.to_csv('cleaned_data_April_17_02.csv')"
   ]
  },
  {
   "cell_type": "code",
   "execution_count": 7,
   "metadata": {
    "scrolled": true
   },
   "outputs": [],
   "source": [
    "from sklearn.preprocessing import LabelEncoder\n",
    "# Declare the LabelEncoder\n",
    "le = LabelEncoder()\n",
    "df3cats['WEEK_OF_DAY'] = le.fit_transform(df3cats['DAY_OF_WEEK'])\n",
    "df3cats['STATE'] = le.fit_transform(df3cats['STATE'])\n",
    "df3cats['STAT_CAUSE_DESCR'] = le.fit_transform(df3cats['STAT_CAUSE_DESCR'])\n",
    "#df3cats.head(100)"
   ]
  },
  {
   "cell_type": "markdown",
   "metadata": {},
   "source": [
    "# Get the feature and target vector"
   ]
  },
  {
   "cell_type": "markdown",
   "metadata": {},
   "source": [
    "Use only the relevant features: \n",
    "* month \n",
    "* week of day \n",
    "* fire size \n",
    "* state\n",
    "* latitude and longitude"
   ]
  },
  {
   "cell_type": "code",
   "execution_count": 9,
   "metadata": {},
   "outputs": [],
   "source": [
    "target = 'STAT_CAUSE_DESCR'\n",
    "y = df3cats[target].values\n",
    "features = ['LATITUDE','LONGITUDE', 'FIRE_SIZE', 'MONTH','WEEK_OF_DAY','STATE']\n",
    "x = df3cats[features].values\n",
    "\n",
    "#X, y = df[['sepal length', 'sepal width', 'petal length', 'petal width']].values, df['target'].values"
   ]
  },
  {
   "cell_type": "code",
   "execution_count": 10,
   "metadata": {},
   "outputs": [],
   "source": [
    "#Divide the Data Into Training and Testing\n",
    "from sklearn.model_selection import train_test_split \n",
    "X_train, X_test, y_train, y_test = train_test_split(x, y, test_size=0.3)"
   ]
  },
  {
   "cell_type": "code",
   "execution_count": 11,
   "metadata": {},
   "outputs": [],
   "source": [
    "#Standardize the Features\n",
    "from sklearn.preprocessing import StandardScaler\n",
    "# Declare the StandardScaler\n",
    "std_scaler = StandardScaler()\n",
    "# Standardize the features in the training data\n",
    "X_train = std_scaler.fit_transform(X_train)\n",
    "# Standardize the features in testing data\n",
    "X_test = std_scaler.transform(X_test)"
   ]
  },
  {
   "cell_type": "code",
   "execution_count": 12,
   "metadata": {},
   "outputs": [
    {
     "data": {
      "image/png": "[encoded data removed]",
      "text/plain": [
       "<Figure size 576x576 with 1 Axes>"
      ]
     },
     "metadata": {
      "needs_background": "light"
     },
     "output_type": "display_data"
    }
   ],
   "source": [
    "def plot_corr(df):\n",
    "    corr = df3cats.corr()\n",
    "    fig, ax = plt.subplots(figsize=(8, 8))\n",
    "    ax.matshow(corr,cmap=plt.cm.Oranges)\n",
    "    plt.xticks(range(len(corr.columns)), corr.columns)\n",
    "    plt.yticks(range(len(corr.columns)), corr.columns)\n",
    "    for tick in ax.get_xticklabels():\n",
    "        tick.set_rotation(45)    \n",
    "    plt.show()\n",
    "    \n",
    "\n",
    "    \n",
    "plot_corr(df3cats)"
   ]
  },
  {
   "cell_type": "markdown",
   "metadata": {},
   "source": [
    "# Use machine learning to predict the cause of the fires"
   ]
  },
  {
   "cell_type": "markdown",
   "metadata": {},
   "source": [
    "In class, we've only learned how to predict categories (republican/democrat, die/live, true/false, etc.). For this project, we will convert \"causes\" to three categories:"
   ]
  },
  {
   "cell_type": "code",
   "execution_count": 13,
   "metadata": {},
   "outputs": [],
   "source": [
    "from sklearn.neural_network import MLPClassifier\n",
    "from sklearn.ensemble import RandomForestClassifier\n",
    "from sklearn.linear_model import LogisticRegression\n",
    "from sklearn.tree import DecisionTreeClassifier\n",
    "from sklearn.decomposition import PCA\n",
    "import time"
   ]
  },
  {
   "cell_type": "code",
   "execution_count": 14,
   "metadata": {},
   "outputs": [
    {
     "name": "stdout",
     "output_type": "stream",
     "text": [
      "Accuracy: 0.6791674983919977\n",
      "Run time: 294.21778893470764\n"
     ]
    }
   ],
   "source": [
    "#MLPClassifier\n",
    "start = time.time()\n",
    "mlp = MLPClassifier()\n",
    "mlp.fit(X_train, y_train)\n",
    "print('Accuracy: ' + str(mlp.score(X_test, y_test)))\n",
    "end = time.time()\n",
    "print('Run time: ' + str(end - start))"
   ]
  },
  {
   "cell_type": "markdown",
   "metadata": {},
   "source": [
    "## Random Forest Model\n"
   ]
  },
  {
   "cell_type": "code",
   "execution_count": 20,
   "metadata": {},
   "outputs": [],
   "source": [
    "# show feature importances\n",
    "def plot_feature_importances(columns, importances):\n",
    "    # Convert the importances into one-dimensional 1darray with corresponding df column names as axis labels\n",
    "    f_importances = pd.Series(importances, columns)\n",
    "\n",
    "    # Sort the array in descending order of the importances\n",
    "    f_importances = f_importances.sort_values(ascending=False)\n",
    "\n",
    "    # Draw the bar Plot from f_importances \n",
    "    f_importances.plot(x='Features', y='Importance', kind='bar', figsize=(16,9), rot=45, fontsize=30)\n",
    "    \n",
    "    plt.title('Feature Importances').set_fontsize(32)\n",
    "    \n",
    "    # Show the plot\n",
    "    plt.tight_layout()\n",
    "    plt.show()"
   ]
  },
  {
   "cell_type": "code",
   "execution_count": 21,
   "metadata": {},
   "outputs": [
    {
     "name": "stdout",
     "output_type": "stream",
     "text": [
      "Accuracy: 0.690088051988378\n",
      "Run time: 26.459707260131836\n"
     ]
    },
    {
     "data": {
      "image/png": "[encoded data removed]",
      "text/plain": [
       "<Figure size 1152x648 with 1 Axes>"
      ]
     },
     "metadata": {
      "needs_background": "light"
     },
     "output_type": "display_data"
    }
   ],
   "source": [
    "#RandomForestClassifier\n",
    "start = time.time()\n",
    "rfc = RandomForestClassifier()\n",
    "rfc.fit(X_train, y_train)\n",
    "print('Accuracy: ' + str(rfc.score(X_test, y_test)))\n",
    "end = time.time()\n",
    "print('Run time: ' + str(end - start))\n",
    "\n",
    "\n",
    "# Plot feature importances\n",
    "importances = rfc.feature_importances_\n",
    "plot_feature_importances(features, importances)"
   ]
  },
  {
   "cell_type": "code",
   "execution_count": 16,
   "metadata": {},
   "outputs": [
    {
     "name": "stdout",
     "output_type": "stream",
     "text": [
      "Accuracy: 0.5626011932486082\n",
      "Run time: 3.207022190093994\n"
     ]
    }
   ],
   "source": [
    "#LogisticRegression\n",
    "start = time.time()\n",
    "lr = LogisticRegression()\n",
    "lr.fit(X_train, y_train)\n",
    "print('Accuracy: ' + str(lr.score(X_test, y_test)))\n",
    "end = time.time()\n",
    "print('Run time: ' + str(end - start))"
   ]
  },
  {
   "cell_type": "code",
   "execution_count": 17,
   "metadata": {},
   "outputs": [
    {
     "name": "stdout",
     "output_type": "stream",
     "text": [
      "Accuracy: 0.6334919156297825\n",
      "Run time: 7.435149192810059\n"
     ]
    }
   ],
   "source": [
    "#DecisionTreeClassifier\n",
    "start = time.time()\n",
    "dtc = DecisionTreeClassifier()\n",
    "dtc.fit(X_train, y_train)\n",
    "print('Accuracy: ' + str(dtc.score(X_test, y_test)))\n",
    "end = time.time()\n",
    "print('Run time: ' + str(end - start))"
   ]
  },
  {
   "cell_type": "code",
   "execution_count": 18,
   "metadata": {},
   "outputs": [
    {
     "name": "stdout",
     "output_type": "stream",
     "text": [
      "Accuracy: -8.463944923423687\n",
      "Run time: 0.24412298202514648\n"
     ]
    }
   ],
   "source": [
    "#PCA\n",
    "start = time.time()\n",
    "pc = PCA()\n",
    "pc.fit(X_train, y_train)\n",
    "print('Accuracy: ' + str(pc.score(X_test, y_test)))\n",
    "end = time.time()\n",
    "print('Run time: ' + str(end - start))"
   ]
  },
  {
   "cell_type": "markdown",
   "metadata": {},
   "source": [
    "# Pipeline Method "
   ]
  },
  {
   "cell_type": "code",
   "execution_count": 22,
   "metadata": {},
   "outputs": [],
   "source": [
    "from sklearn.linear_model import LogisticRegression\n",
    "from sklearn.tree import DecisionTreeClassifier\n",
    "from sklearn.pipeline import Pipeline\n",
    "from sklearn.model_selection import StratifiedKFold\n",
    "from sklearn.model_selection import GridSearchCV\n",
    "from sklearn.decomposition import PCA"
   ]
  },
  {
   "cell_type": "code",
   "execution_count": 23,
   "metadata": {},
   "outputs": [],
   "source": [
    "# name the classifiers\n",
    "clfs = {'lr': LogisticRegression(class_weight='balanced', \n",
    "                                 random_state=0),        \n",
    "        'mlp': MLPClassifier(random_state=0),\n",
    "        'dt': DecisionTreeClassifier(class_weight='balanced', \n",
    "                                     random_state=0),\n",
    "        'rf': RandomForestClassifier(class_weight='balanced', \n",
    "                                     random_state=0),\n",
    "        }\n",
    "\n",
    "# create the pipeline\n",
    "pipe_clfs = {}\n",
    "\n",
    "for name, clf in clfs.items():\n",
    "    pipe_clfs[name] = {}\n",
    "    pipe_clfs[name] = Pipeline([('StandardScaler', StandardScaler()), \n",
    "                                ('clf', clf)])\n",
    "\n"
   ]
  },
  {
   "cell_type": "code",
   "execution_count": 24,
   "metadata": {},
   "outputs": [],
   "source": [
    "param_grids = {}\n",
    "\n",
    "# 9.1.1 The parameter grid for logistic regression\n",
    "C_range = [10 ** i for i in range(-5, 4)]\n",
    "param_grid_lr = [{'clf__multi_class': ['ovr'], \n",
    "               'clf__solver': ['newton-cg', 'lbfgs', 'liblinear', 'sag', 'saga'],\n",
    "               'clf__C': C_range},\n",
    "              {'clf__multi_class': ['multinomial'],\n",
    "               'clf__solver': ['newton-cg', 'lbfgs', 'sag', 'saga'],\n",
    "               'clf__C': C_range}]\n",
    "param_grids['lr'] = param_grid_lr\n",
    "\n",
    "# 9.1.2 The parameter grid for multi-layer perceptron\n",
    "param_grid_mlp = [{'clf__hidden_layer_sizes': [10, 100, 200], \n",
    "                   'clf__activation': ['identity', 'logistic', 'tanh', 'relu'],\n",
    "                   'clf__solver': ['lbfgs','sgd','adam']}]\n",
    "param_grids['mlp'] = param_grid_mlp\n",
    "\n",
    "# 9.1.3 The parameter grid for decision tree\n",
    "param_grid_dt = [{'clf__min_samples_split': [2, 10, 30], \n",
    "                  'clf__min_samples_leaf': [1, 10, 30], \n",
    "                  'clf__max_features': ['auto', 'sqrt', 'log2', None]}]\n",
    "param_grids['dt'] = param_grid_dt\n",
    "\n",
    "# 9.1.4 The parameter grid for random forest\n",
    "param_grid_rf = [{'clf__n_estimators': [10, 50, 100, 150],\n",
    "                  'clf__min_samples_split': [2, 10, 30],\n",
    "                  'clf__min_samples_leaf': [1, 10, 30], \n",
    "                  'clf__max_features': ['auto', 'sqrt', 'log2', None]}]\n",
    "param_grids['rf'] = param_grid_rf"
   ]
  },
  {
   "cell_type": "code",
   "execution_count": null,
   "metadata": {},
   "outputs": [
    {
     "name": "stdout",
     "output_type": "stream",
     "text": [
      "Running parameter combinations for classifier: lr\n",
      ".  Done with lr.\n",
      "Running parameter combinations for classifier: mlp\n",
      ".  "
     ]
    }
   ],
   "source": [
    "# Hyperparameter tuning\n",
    "\n",
    "import warnings\n",
    "warnings.filterwarnings('ignore')\n",
    "from sklearn.model_selection import GridSearchCV\n",
    "from sklearn.model_selection import StratifiedKFold\n",
    "\n",
    "# The list of [best_score_, best_params_, best_estimator_]\n",
    "best_score_param_estimators2 = []\n",
    "\n",
    "# For each classifier\n",
    "for name in pipe_clfs.keys():\n",
    "    print('Running parameter combinations for classifier: ' + name)\n",
    "    #for n_component in n_components:   \n",
    "    # GridSearchCV\n",
    "    gs2 = GridSearchCV(estimator=pipe_clfs[name], #[n_component],\n",
    "                      param_grid=param_grids[name],\n",
    "                      scoring='accuracy',\n",
    "                      n_jobs=-1,\n",
    "                      cv=StratifiedKFold(n_splits=10,\n",
    "                                         shuffle=True,\n",
    "                                         random_state=0))\n",
    "    print('. ', end=' ')\n",
    "    # Fit the pipeline - this takes 20-30 mins to run\n",
    "    gs2 = gs2.fit(x, y)\n",
    "\n",
    "    # Update best_score_param_estimators\n",
    "    best_score_param_estimators2.append([gs2.best_score_, \n",
    "                                        gs2.best_params_, \n",
    "                                        gs2.best_estimator_])\n",
    "    print('Done with ' + name + '.')"
   ]
  },
  {
   "cell_type": "markdown",
   "metadata": {},
   "source": [
    "# I have to give up for this process. My dataset is huge, I did a similar process before, but this time, I waited like a half day, but still didn't get any result. \n"
   ]
  },
  {
   "cell_type": "code",
   "execution_count": null,
   "metadata": {},
   "outputs": [],
   "source": [
    "# Model Selection \n",
    "\n",
    "# Sort best_score_param_estimators in descending order of the best_score_\n",
    "best_score_param_estimators3 = sorted(best_score_param_estimators3, \\\n",
    "                                     key=lambda x: x[0], reverse=True)\n",
    "\n",
    "# For each [best_score_, best_params_, best_estimator_]\n",
    "for best_score_param_estimator in best_score_param_estimators3:\n",
    "    # Print out [best_score_, best_params_, best_estimator_], where best_estimator_ is a pipeline\n",
    "    # Since we only print out the type of classifier of the pipeline\n",
    "    print([best_score_param_estimator[0], best_score_param_estimator[1], \\\n",
    "           type(best_score_param_estimator[2].named_steps['clf'])], end='\\n\\n')\n"
   ]
  },
  {
   "cell_type": "code",
   "execution_count": null,
   "metadata": {},
   "outputs": [],
   "source": [
    "# Predictions\n",
    "\n",
    "winner3 = best_score_param_estimators3[0][2]\n",
    "print(\"The winning estimator is: \" + str(type(winner3.named_steps['clf'])))\n",
    "\n",
    "print(winner3.score(X3, y3))\n",
    "y3_pred = winner3.predict(X3)\n",
    "print('Misclassified samples: %d' % (y3 != y3_pred).sum())\n",
    "accuracy_score(y3, y3_pred)"
   ]
  },
  {
   "cell_type": "code",
   "execution_count": null,
   "metadata": {},
   "outputs": [],
   "source": []
  }
 ],
 "metadata": {
  "kernelspec": {
   "display_name": "Python 3",
   "language": "python",
   "name": "python3"
  },
  "language_info": {
   "codemirror_mode": {
    "name": "ipython",
    "version": 3
   },
   "file_extension": ".py",
   "mimetype": "text/x-python",
   "name": "python",
   "nbconvert_exporter": "python",
   "pygments_lexer": "ipython3",
   "version": "3.7.1"
  }
 },
 "nbformat": 4,
 "nbformat_minor": 2
}
