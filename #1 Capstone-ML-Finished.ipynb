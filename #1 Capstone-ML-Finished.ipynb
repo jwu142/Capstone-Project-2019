{
 "cells": [
  {
   "cell_type": "markdown",
   "metadata": {},
   "source": [
    "<h1 align=\"center\"> \n",
    "Predicting the Cause of Wildfires \n",
    "</h1> \n",
    "<h2 align=\"center\"> \n",
    "DATS 6501_10, Spring 2019, Capstone (Machine Learning)\n",
    "</h2>\n",
    "\n",
    "<h4 align=\"center\"> \n",
    "Author: Jiajun Wu\n",
    "</h4>"
   ]
  },
  {
   "cell_type": "markdown",
   "metadata": {},
   "source": [
    "### Problem definition and motivation\n",
    "We chosen to explore Spatial wildfire occurrence data for the United States, 1992-2015, which consists of 1,880,465 records and 39 attributes. We plan to use a data science approach to analyzing the wildfire data in order to predict the cause of wildfire, based on the variety of features in the database. Our motivation for this project is tov apply the machine learing models we have learned in class onto a real-world data set. \n",
    "\n",
    "### Proposed method, language, and package for implementation\n",
    "The project aims to use Python to analyze the wildfire data. Specific packages to be used are Numpy, Pandas, and Scikit-learn. We will use Matplotlib for visualizations. For the methods the team plans to use to make our predictor, we’ll be trying neural net, and then two methods covered later in class: Random Forest and Support Vector Machine (SVM).\n",
    "\n",
    "### Link to the data\n",
    "https://www.fs.usda.gov/rds/archive/Product/RDS-2013-0009.4/\n",
    "\n",
    "\n",
    "#### Part 1: import libraries and data, convert dates to Gregorian format\n",
    "#### Part 2: EDA\n",
    "#### Part 3: Use machine learning to predict the cause of the fires\n",
    "#### Part 4: Build a system that predicts if the fire was malicious\n",
    "\n"
   ]
  },
  {
   "cell_type": "markdown",
   "metadata": {},
   "source": [
    "# 1.Load Data"
   ]
  },
  {
   "cell_type": "markdown",
   "metadata": {},
   "source": [
    "### Load the Data\n",
    "### Import libraries and data, convert dates to Gregorian format, encode"
   ]
  },
  {
   "cell_type": "code",
   "execution_count": 4,
   "metadata": {},
   "outputs": [],
   "source": [
    "import sqlite3\n",
    "import numpy as np\n",
    "import matplotlib.pyplot as plt\n",
    "import pandas as pd\n",
    "from sklearn import datasets\n",
    "from sklearn.model_selection import train_test_split\n",
    "from sklearn.neighbors import KNeighborsClassifier\n",
    "from sklearn import preprocessing\n",
    "import time \n",
    "\n",
    "sqlite_file = \"FPA_FOD_20170508.sqlite\"\n",
    "conn=sqlite3.connect(sqlite_file)\n",
    "c = conn.cursor()"
   ]
  },
  {
   "cell_type": "code",
   "execution_count": 5,
   "metadata": {},
   "outputs": [],
   "source": [
    "from sklearn.ensemble import RandomForestClassifier"
   ]
  },
  {
   "cell_type": "code",
   "execution_count": 6,
   "metadata": {
    "scrolled": true
   },
   "outputs": [],
   "source": [
    "fires = pd.read_sql_query(\"SELECT * FROM fires\", conn)"
   ]
  },
  {
   "cell_type": "code",
   "execution_count": 7,
   "metadata": {},
   "outputs": [],
   "source": [
    "# fires.head()"
   ]
  },
  {
   "cell_type": "code",
   "execution_count": 8,
   "metadata": {},
   "outputs": [],
   "source": [
    "# fires.shape\n",
    "# (1880465, 39)"
   ]
  },
  {
   "cell_type": "code",
   "execution_count": 9,
   "metadata": {},
   "outputs": [],
   "source": [
    "# fires.columns.values.tolist()"
   ]
  },
  {
   "cell_type": "code",
   "execution_count": 10,
   "metadata": {},
   "outputs": [],
   "source": [
    "# fires._stat_axis.values.tolist()"
   ]
  },
  {
   "cell_type": "code",
   "execution_count": 11,
   "metadata": {},
   "outputs": [],
   "source": [
    "# Julian Date format to Gregorian dates\n",
    "fires['DATE'] = pd.to_datetime(fires['DISCOVERY_DATE'] - pd.Timestamp(0).to_julian_date(), unit='D')\n",
    "# print(fires['DATE'])"
   ]
  },
  {
   "cell_type": "code",
   "execution_count": 12,
   "metadata": {},
   "outputs": [],
   "source": [
    "fires['MONTH'] = pd.DatetimeIndex(fires['DATE']).month\n",
    "fires['WEEK_OF_DAY'] = fires['DATE'].dt.weekday_name"
   ]
  },
  {
   "cell_type": "code",
   "execution_count": 13,
   "metadata": {
    "scrolled": false
   },
   "outputs": [],
   "source": [
    "# fires.dtypes"
   ]
  },
  {
   "cell_type": "code",
   "execution_count": 14,
   "metadata": {},
   "outputs": [],
   "source": [
    "df = fires[['STAT_CAUSE_DESCR','LATITUDE','LONGITUDE','FIRE_SIZE','DISCOVERY_DATE','MONTH','WEEK_OF_DAY','STATE']]\n",
    "#df.head(10)"
   ]
  },
  {
   "cell_type": "code",
   "execution_count": 15,
   "metadata": {},
   "outputs": [],
   "source": [
    "# df.shape\n",
    "# (1880465, 8)"
   ]
  },
  {
   "cell_type": "markdown",
   "metadata": {},
   "source": [
    "### Clean the Data"
   ]
  },
  {
   "cell_type": "code",
   "execution_count": 16,
   "metadata": {},
   "outputs": [
    {
     "name": "stdout",
     "output_type": "stream",
     "text": [
      "Number of rows before removing rows with missing values: 1880465\n"
     ]
    }
   ],
   "source": [
    "print('Number of rows before removing rows with missing values: ' + str(df.shape[0]))"
   ]
  },
  {
   "cell_type": "code",
   "execution_count": 17,
   "metadata": {},
   "outputs": [
    {
     "name": "stdout",
     "output_type": "stream",
     "text": [
      "Number of rows after removing rows with missing values: 1880465\n"
     ]
    }
   ],
   "source": [
    "fires.replace('?', np.NaN, inplace=True)\n",
    "fires.dropna(how='any', inplace=True)\n",
    "\n",
    "print('Number of rows after removing rows with missing values: ' + str(df.shape[0]))"
   ]
  },
  {
   "cell_type": "markdown",
   "metadata": {},
   "source": [
    "### Select necessary columns "
   ]
  },
  {
   "cell_type": "markdown",
   "metadata": {},
   "source": [
    "### Encode "
   ]
  },
  {
   "cell_type": "code",
   "execution_count": 18,
   "metadata": {},
   "outputs": [
    {
     "name": "stderr",
     "output_type": "stream",
     "text": [
      "/anaconda3/lib/python3.7/site-packages/ipykernel_launcher.py:3: SettingWithCopyWarning: \n",
      "A value is trying to be set on a copy of a slice from a DataFrame.\n",
      "Try using .loc[row_indexer,col_indexer] = value instead\n",
      "\n",
      "See the caveats in the documentation: http://pandas.pydata.org/pandas-docs/stable/indexing.html#indexing-view-versus-copy\n",
      "  This is separate from the ipykernel package so we can avoid doing imports until\n",
      "/anaconda3/lib/python3.7/site-packages/ipykernel_launcher.py:4: SettingWithCopyWarning: \n",
      "A value is trying to be set on a copy of a slice from a DataFrame.\n",
      "Try using .loc[row_indexer,col_indexer] = value instead\n",
      "\n",
      "See the caveats in the documentation: http://pandas.pydata.org/pandas-docs/stable/indexing.html#indexing-view-versus-copy\n",
      "  after removing the cwd from sys.path.\n",
      "/anaconda3/lib/python3.7/site-packages/ipykernel_launcher.py:5: SettingWithCopyWarning: \n",
      "A value is trying to be set on a copy of a slice from a DataFrame.\n",
      "Try using .loc[row_indexer,col_indexer] = value instead\n",
      "\n",
      "See the caveats in the documentation: http://pandas.pydata.org/pandas-docs/stable/indexing.html#indexing-view-versus-copy\n",
      "  \"\"\"\n"
     ]
    },
    {
     "data": {
      "text/html": [
       "<div>\n",
       "<style scoped>\n",
       "    .dataframe tbody tr th:only-of-type {\n",
       "        vertical-align: middle;\n",
       "    }\n",
       "\n",
       "    .dataframe tbody tr th {\n",
       "        vertical-align: top;\n",
       "    }\n",
       "\n",
       "    .dataframe thead th {\n",
       "        text-align: right;\n",
       "    }\n",
       "</style>\n",
       "<table border=\"1\" class=\"dataframe\">\n",
       "  <thead>\n",
       "    <tr style=\"text-align: right;\">\n",
       "      <th></th>\n",
       "      <th>STAT_CAUSE_DESCR</th>\n",
       "      <th>LATITUDE</th>\n",
       "      <th>LONGITUDE</th>\n",
       "      <th>FIRE_SIZE</th>\n",
       "      <th>DISCOVERY_DATE</th>\n",
       "      <th>MONTH</th>\n",
       "      <th>WEEK_OF_DAY</th>\n",
       "      <th>STATE</th>\n",
       "    </tr>\n",
       "  </thead>\n",
       "  <tbody>\n",
       "    <tr>\n",
       "      <th>0</th>\n",
       "      <td>7</td>\n",
       "      <td>40.036944</td>\n",
       "      <td>-121.005833</td>\n",
       "      <td>0.10</td>\n",
       "      <td>2453403.5</td>\n",
       "      <td>2</td>\n",
       "      <td>6</td>\n",
       "      <td>4</td>\n",
       "    </tr>\n",
       "    <tr>\n",
       "      <th>1</th>\n",
       "      <td>6</td>\n",
       "      <td>38.933056</td>\n",
       "      <td>-120.404444</td>\n",
       "      <td>0.25</td>\n",
       "      <td>2453137.5</td>\n",
       "      <td>5</td>\n",
       "      <td>6</td>\n",
       "      <td>4</td>\n",
       "    </tr>\n",
       "    <tr>\n",
       "      <th>2</th>\n",
       "      <td>3</td>\n",
       "      <td>38.984167</td>\n",
       "      <td>-120.735556</td>\n",
       "      <td>0.10</td>\n",
       "      <td>2453156.5</td>\n",
       "      <td>5</td>\n",
       "      <td>1</td>\n",
       "      <td>4</td>\n",
       "    </tr>\n",
       "    <tr>\n",
       "      <th>3</th>\n",
       "      <td>6</td>\n",
       "      <td>38.559167</td>\n",
       "      <td>-119.913333</td>\n",
       "      <td>0.10</td>\n",
       "      <td>2453184.5</td>\n",
       "      <td>6</td>\n",
       "      <td>1</td>\n",
       "      <td>4</td>\n",
       "    </tr>\n",
       "    <tr>\n",
       "      <th>4</th>\n",
       "      <td>6</td>\n",
       "      <td>38.559167</td>\n",
       "      <td>-119.933056</td>\n",
       "      <td>0.10</td>\n",
       "      <td>2453184.5</td>\n",
       "      <td>6</td>\n",
       "      <td>1</td>\n",
       "      <td>4</td>\n",
       "    </tr>\n",
       "  </tbody>\n",
       "</table>\n",
       "</div>"
      ],
      "text/plain": [
       "   STAT_CAUSE_DESCR   LATITUDE   LONGITUDE  FIRE_SIZE  DISCOVERY_DATE  MONTH  \\\n",
       "0                 7  40.036944 -121.005833       0.10       2453403.5      2   \n",
       "1                 6  38.933056 -120.404444       0.25       2453137.5      5   \n",
       "2                 3  38.984167 -120.735556       0.10       2453156.5      5   \n",
       "3                 6  38.559167 -119.913333       0.10       2453184.5      6   \n",
       "4                 6  38.559167 -119.933056       0.10       2453184.5      6   \n",
       "\n",
       "   WEEK_OF_DAY  STATE  \n",
       "0            6      4  \n",
       "1            6      4  \n",
       "2            1      4  \n",
       "3            1      4  \n",
       "4            1      4  "
      ]
     },
     "execution_count": 18,
     "metadata": {},
     "output_type": "execute_result"
    }
   ],
   "source": [
    "from sklearn.preprocessing import LabelEncoder\n",
    "le = LabelEncoder()\n",
    "df['WEEK_OF_DAY'] = le.fit_transform(df['WEEK_OF_DAY'])\n",
    "df['STATE'] = le.fit_transform(df['STATE'])\n",
    "df['STAT_CAUSE_DESCR'] = le.fit_transform(df['STAT_CAUSE_DESCR'])\n",
    "df.head(5)"
   ]
  },
  {
   "cell_type": "markdown",
   "metadata": {},
   "source": [
    "### Get the feature and target vector"
   ]
  },
  {
   "cell_type": "code",
   "execution_count": 19,
   "metadata": {},
   "outputs": [],
   "source": [
    "#target\n",
    "target = 'STAT_CAUSE_DESCR'\n",
    "fires_y = df['STAT_CAUSE_DESCR'].values"
   ]
  },
  {
   "cell_type": "code",
   "execution_count": 20,
   "metadata": {},
   "outputs": [],
   "source": [
    "# features \n",
    "#features = list(df.drop(target, axis=1).columns)\n",
    "features = ['LATITUDE','LONGITUDE', 'FIRE_SIZE', 'DISCOVERY_DATE', 'MONTH','WEEK_OF_DAY','STATE']\n",
    "fires_x = df[features].values"
   ]
  },
  {
   "cell_type": "markdown",
   "metadata": {},
   "source": [
    "### Divide the data into training and testing"
   ]
  },
  {
   "cell_type": "code",
   "execution_count": 21,
   "metadata": {},
   "outputs": [],
   "source": [
    "#30% for testing, 70% for training\n",
    "from sklearn.model_selection import train_test_split\n",
    "X_train, X_test, y_train, y_test = train_test_split(\n",
    "    fires_x, fires_y, test_size=0.3)"
   ]
  },
  {
   "cell_type": "markdown",
   "metadata": {},
   "source": [
    "### Standardize the features"
   ]
  },
  {
   "cell_type": "code",
   "execution_count": null,
   "metadata": {},
   "outputs": [],
   "source": [
    "from sklearn.preprocessing import StandardScaler\n",
    "\n",
    "# Declare the StandardScaler\n",
    "std_scaler = StandardScaler()\n",
    "\n",
    "# Standardize the features in the training data\n",
    "X_train = std_scaler.fit_transform(X_train)\n",
    "\n",
    "# Standardize the features in testing data\n",
    "X_test = std_scaler.transform(X_test)"
   ]
  },
  {
   "cell_type": "markdown",
   "metadata": {},
   "source": [
    "### Stochastic gradient descend(SGD)"
   ]
  },
  {
   "cell_type": "code",
   "execution_count": 16,
   "metadata": {},
   "outputs": [],
   "source": [
    "from sklearn.linear_model import SGDClassifier\n",
    "import matplotlib.pyplot as plt"
   ]
  },
  {
   "cell_type": "code",
   "execution_count": 17,
   "metadata": {},
   "outputs": [
    {
     "name": "stderr",
     "output_type": "stream",
     "text": [
      "/anaconda3/lib/python3.7/site-packages/sklearn/linear_model/stochastic_gradient.py:166: FutureWarning: max_iter and tol parameters have been added in SGDClassifier in 0.19. If both are left unset, they default to max_iter=5 and tol=None. If tol is not None, max_iter defaults to max_iter=1000. From 0.21, default max_iter will be 1000, and default tol will be 1e-3.\n",
      "  FutureWarning)\n"
     ]
    },
    {
     "name": "stdout",
     "output_type": "stream",
     "text": [
      "0.3076239940440316\n"
     ]
    }
   ],
   "source": [
    "sgdc = SGDClassifier(loss='log')\n",
    "sgdc.fit(X_train,y_train)\n",
    "sgdc_pre = sgdc.predict(X_test)\n",
    "print (sgdc.score(X_test,y_test))\n",
    "# 0.30776934803417594"
   ]
  },
  {
   "cell_type": "markdown",
   "metadata": {},
   "source": [
    "### Cross Validation"
   ]
  },
  {
   "cell_type": "code",
   "execution_count": 18,
   "metadata": {},
   "outputs": [],
   "source": [
    "# https://morvanzhou.github.io/tutorials/machine-learning/sklearn/3-2-cross-validation1/\n",
    "\n",
    "#from sklearn.cross_validation import cross_val_score \n",
    "\n",
    "#scores = cross_val_score(sgdc, X_test,y_test, cv=5, scoring='accuracy')\n",
    "\n",
    "#print(scores)\n",
    "\n",
    "#print(scores.mean())\n"
   ]
  },
  {
   "cell_type": "markdown",
   "metadata": {},
   "source": [
    "### Random Forest Classifier"
   ]
  },
  {
   "cell_type": "code",
   "execution_count": 19,
   "metadata": {},
   "outputs": [
    {
     "name": "stderr",
     "output_type": "stream",
     "text": [
      "/anaconda3/lib/python3.7/site-packages/sklearn/ensemble/forest.py:246: FutureWarning: The default value of n_estimators will change from 10 in version 0.20 to 100 in 0.22.\n",
      "  \"10 in version 0.20 to 100 in 0.22.\", FutureWarning)\n"
     ]
    },
    {
     "name": "stdout",
     "output_type": "stream",
     "text": [
      "The accuracy of random forest is: 0.5537437515510334\n"
     ]
    }
   ],
   "source": [
    "from sklearn.ensemble import RandomForestClassifier\n",
    "rf = RandomForestClassifier(random_state=0, class_weight='balanced')\n",
    "rf.fit(X_train,y_train)\n",
    "print('The accuracy of random forest is: ' + str(rf.score(X_test, y_test)))\n",
    "# The accuracy of random forest is: 0.5528290849789059"
   ]
  },
  {
   "cell_type": "markdown",
   "metadata": {},
   "source": [
    "### Plot the data and regression model"
   ]
  },
  {
   "cell_type": "code",
   "execution_count": 20,
   "metadata": {
    "scrolled": false
   },
   "outputs": [
    {
     "name": "stderr",
     "output_type": "stream",
     "text": [
      "/anaconda3/lib/python3.7/site-packages/scipy/stats/stats.py:1713: FutureWarning: Using a non-tuple sequence for multidimensional indexing is deprecated; use `arr[tuple(seq)]` instead of `arr[seq]`. In the future this will be interpreted as an array index, `arr[np.array(seq)]`, which will result either in an error or a different result.\n",
      "  return np.add.reduce(sorted[indexer] * weights, axis=axis) / sumval\n"
     ]
    },
    {
     "data": {
      "image/png": "[encoded data removed]",
      "text/plain": [
       "<Figure size 360x360 with 1 Axes>"
      ]
     },
     "metadata": {
      "needs_background": "light"
     },
     "output_type": "display_data"
    },
    {
     "data": {
      "image/png": "[encoded data removed]",
      "text/plain": [
       "<Figure size 360x360 with 1 Axes>"
      ]
     },
     "metadata": {
      "needs_background": "light"
     },
     "output_type": "display_data"
    },
    {
     "data": {
      "image/png": "[encoded data removed]",
      "text/plain": [
       "<Figure size 360x360 with 1 Axes>"
      ]
     },
     "metadata": {
      "needs_background": "light"
     },
     "output_type": "display_data"
    },
    {
     "data": {
      "image/png": "[encoded data removed]",
      "text/plain": [
       "<Figure size 360x360 with 1 Axes>"
      ]
     },
     "metadata": {
      "needs_background": "light"
     },
     "output_type": "display_data"
    },
    {
     "data": {
      "image/png": "[encoded data removed]",
      "text/plain": [
       "<Figure size 360x360 with 1 Axes>"
      ]
     },
     "metadata": {
      "needs_background": "light"
     },
     "output_type": "display_data"
    },
    {
     "data": {
      "image/png": "[encoded data removed]",
      "text/plain": [
       "<Figure size 360x360 with 1 Axes>"
      ]
     },
     "metadata": {
      "needs_background": "light"
     },
     "output_type": "display_data"
    },
    {
     "data": {
      "image/png": "[encoded data removed]",
      "text/plain": [
       "<Figure size 360x360 with 1 Axes>"
      ]
     },
     "metadata": {
      "needs_background": "light"
     },
     "output_type": "display_data"
    }
   ],
   "source": [
    "import matplotlib.pyplot as plt\n",
    "import seaborn as sns\n",
    "# For each feature\n",
    "for feature in features:\n",
    "    # Plot data and regression model comprised of the current feature and the target\n",
    "    sns.lmplot(x=feature, y=target, data=df, line_kws={'color': 'red'})\n",
    " \n",
    "   \n",
    "plt.tight_layout()\n",
    "plt.show()"
   ]
  },
  {
   "cell_type": "markdown",
   "metadata": {},
   "source": [
    "### Get $\\alpha$ and $\\beta$"
   ]
  },
  {
   "cell_type": "code",
   "execution_count": null,
   "metadata": {},
   "outputs": [
    {
     "name": "stdout",
     "output_type": "stream",
     "text": [
      "alpha is: LONGITUDE\n",
      "beta: MONTH\n",
      "[[ 1.00000000e+00 -3.54727069e-01  3.88603686e-02  5.82077012e-03\n",
      "   1.47483938e-01 -3.10987578e-03  1.52474223e-01  1.27289471e-02]\n",
      " [-3.54727069e-01  1.00000000e+00 -3.97305482e-02  6.86999225e-03\n",
      "  -2.43395270e-01 -4.10033300e-03  2.07574877e-01 -1.23878756e-01]\n",
      " [ 3.88603686e-02 -3.97305482e-02  1.00000000e+00  7.26001068e-03\n",
      "   5.69528073e-03 -1.14194024e-05 -8.00253092e-03  1.04498224e-02]\n",
      " [ 5.82077012e-03  6.86999225e-03  7.26001068e-03  1.00000000e+00\n",
      "   2.88131739e-02 -2.09557043e-03  1.00745999e-01  5.24747759e-02]\n",
      " [ 1.47483938e-01 -2.43395270e-01  5.69528073e-03  2.88131739e-02\n",
      "   1.00000000e+00  8.49410445e-03 -3.48042568e-02  5.75825654e-02]\n",
      " [-3.10987578e-03 -4.10033300e-03 -1.14194024e-05 -2.09557043e-03\n",
      "   8.49410445e-03  1.00000000e+00 -2.51845828e-03  7.52276815e-03]\n",
      " [ 1.52474223e-01  2.07574877e-01 -8.00253092e-03  1.00745999e-01\n",
      "  -3.48042568e-02 -2.51845828e-03  1.00000000e+00  3.60041164e-02]\n",
      " [ 1.27289471e-02 -1.23878756e-01  1.04498224e-02  5.24747759e-02\n",
      "   5.75825654e-02  7.52276815e-03  3.60041164e-02  1.00000000e+00]]\n"
     ]
    }
   ],
   "source": [
    "import numpy as np\n",
    "\n",
    "# Get correlation matrix, where each entry is the Pearson product-moment correlation coefficients\n",
    "cm = np.corrcoef(df[features + [target]].T)\n",
    "\n",
    "######### Get alpha (the feature that has the largest negative correlation with the target)\n",
    "alpha = features[np.argmin(cm[-1:, :-1])]\n",
    "######### Get beta (the feature that has the largest positive correlation with the target)\n",
    "beta = features[np.argmax(cm[-1:, :-1])]\n",
    "\n",
    "# Print alpha and beta\n",
    "print('alpha is: ' + alpha)\n",
    "print('beta: ' + beta)\n",
    "print(cm)"
   ]
  },
  {
   "cell_type": "markdown",
   "metadata": {},
   "source": [
    "### Plot the heat map"
   ]
  },
  {
   "cell_type": "code",
   "execution_count": 22,
   "metadata": {},
   "outputs": [
    {
     "data": {
      "image/png": "[encoded data removed]",
      "text/plain": [
       "<Figure size 576x576 with 2 Axes>"
      ]
     },
     "metadata": {
      "needs_background": "light"
     },
     "output_type": "display_data"
    }
   ],
   "source": [
    "import matplotlib.pyplot as plt\n",
    "import seaborn as sns\n",
    "plt.figure(figsize=(8,8))\n",
    "hm = sns.heatmap(cm,\n",
    "                 cbar=True,\n",
    "                 annot=True,\n",
    "                 square=True,\n",
    "                 fmt='.2f',\n",
    "                 annot_kws={'size': 15},\n",
    "                 yticklabels=features + [target],\n",
    "                 xticklabels=features + [target])\n",
    "\n",
    "plt.tight_layout()\n",
    "plt.show()"
   ]
  },
  {
   "cell_type": "markdown",
   "metadata": {},
   "source": [
    "### Neural Net Model"
   ]
  },
  {
   "cell_type": "code",
   "execution_count": 23,
   "metadata": {},
   "outputs": [],
   "source": [
    "from sklearn.neural_network import MLPClassifier\n",
    "from sklearn.metrics import precision_recall_fscore_support"
   ]
  },
  {
   "cell_type": "code",
   "execution_count": 24,
   "metadata": {},
   "outputs": [
    {
     "name": "stderr",
     "output_type": "stream",
     "text": [
      "/anaconda3/lib/python3.7/site-packages/sklearn/neural_network/multilayer_perceptron.py:562: ConvergenceWarning: Stochastic Optimizer: Maximum iterations (200) reached and the optimization hasn't converged yet.\n",
      "  % self.max_iter, ConvergenceWarning)\n"
     ]
    },
    {
     "name": "stdout",
     "output_type": "stream",
     "text": [
      "Misclassified samples: 279016\n",
      "The accuracy of neural net: 0.5054135498280569\n"
     ]
    }
   ],
   "source": [
    "# Declare the classifier \n",
    "mlp = MLPClassifier(random_state=0, hidden_layer_sizes=200, \n",
    "                    activation='relu')\n",
    "\n",
    "# Fit the model\n",
    "mlp.fit(X_train,y_train)\n",
    "y_pred_mlp = mlp.predict(X_test)\n",
    "\n",
    "print('Misclassified samples: %d' % (y_test != y_pred_mlp).sum())\n",
    "\n",
    "# Print the accuracy\n",
    "print('The accuracy of neural net:', end=' ')\n",
    "print(precision_recall_fscore_support(y_pred_mlp, y_test, \n",
    "                                      average='micro')[0])\n",
    "\n",
    "#Misclassified samples: 281926\n",
    "#The accuracy of neural net: 0.5002552557875705"
   ]
  },
  {
   "cell_type": "markdown",
   "metadata": {},
   "source": [
    "### Support Vector Model"
   ]
  },
  {
   "cell_type": "code",
   "execution_count": null,
   "metadata": {},
   "outputs": [],
   "source": [
    "#from sklearn.svm import SVC"
   ]
  },
  {
   "cell_type": "code",
   "execution_count": null,
   "metadata": {},
   "outputs": [],
   "source": [
    "# Declare the classifier \n",
    "#svm = SVC(class_weight='balanced', random_state=0, probability=True)\n",
    "\n",
    "# Fit the model\n",
    "#svm.fit(X_train, y_train)\n",
    "#y_pred_svm = svm.predict(X_test)\n",
    "\n",
    "#print('Misclassified samples: %d' % (y_test != y_pred_svm).sum())\n",
    "\n",
    "# Print the accuracy\n",
    "#print('The accuracy of SVM is: ' + str(svm.score(X_test, y_test)))\n",
    "\n",
    "# I had to kill the gradient boost, my low spec laptop couldn't cope with this algorithm and the number of rows. "
   ]
  },
  {
   "cell_type": "markdown",
   "metadata": {},
   "source": [
    "I had to kill the Support Vector Model, my low spec laptop couldn't cope with this algorithm and the number of rows."
   ]
  },
  {
   "cell_type": "markdown",
   "metadata": {},
   "source": [
    "### Logistic Regression Model"
   ]
  },
  {
   "cell_type": "code",
   "execution_count": 32,
   "metadata": {},
   "outputs": [
    {
     "name": "stderr",
     "output_type": "stream",
     "text": [
      "/anaconda3/lib/python3.7/site-packages/sklearn/linear_model/logistic.py:433: FutureWarning: Default solver will be changed to 'lbfgs' in 0.22. Specify a solver to silence this warning.\n",
      "  FutureWarning)\n",
      "/anaconda3/lib/python3.7/site-packages/sklearn/linear_model/logistic.py:460: FutureWarning: Default multi_class will be changed to 'auto' in 0.22. Specify the multi_class option to silence this warning.\n",
      "  \"this warning.\", FutureWarning)\n"
     ]
    },
    {
     "name": "stdout",
     "output_type": "stream",
     "text": [
      "Accuracy: 0.30954550288935373\n",
      "Run time: 62.561249017715454\n"
     ]
    }
   ],
   "source": [
    "from sklearn.linear_model import LogisticRegression\n",
    "start = time.time()\n",
    "sklearn_lr = LogisticRegression()\n",
    "sklearn_lr.fit(X_train, y_train)\n",
    "print('Accuracy: ' + str(sklearn_lr.score(X_test, y_test)))\n",
    "end = time.time()\n",
    "print('Run time: ' + str(end - start))"
   ]
  },
  {
   "cell_type": "markdown",
   "metadata": {},
   "source": [
    "### Decision Tree Classifier"
   ]
  },
  {
   "cell_type": "code",
   "execution_count": 33,
   "metadata": {},
   "outputs": [
    {
     "name": "stdout",
     "output_type": "stream",
     "text": [
      "Accuracy: 0.48800120537455244\n",
      "Run time: 18.900577068328857\n"
     ]
    }
   ],
   "source": [
    "from sklearn.tree import DecisionTreeClassifier\n",
    "start = time.time()\n",
    "dt = DecisionTreeClassifier()\n",
    "dt.fit(X_train, y_train)\n",
    "print('Accuracy: ' + str(dt.score(X_test, y_test)))\n",
    "end = time.time()\n",
    "print('Run time: ' + str(end - start))"
   ]
  },
  {
   "cell_type": "markdown",
   "metadata": {},
   "source": [
    "### MLPClassifier"
   ]
  },
  {
   "cell_type": "code",
   "execution_count": 34,
   "metadata": {},
   "outputs": [
    {
     "name": "stderr",
     "output_type": "stream",
     "text": [
      "/anaconda3/lib/python3.7/site-packages/sklearn/neural_network/multilayer_perceptron.py:562: ConvergenceWarning: Stochastic Optimizer: Maximum iterations (200) reached and the optimization hasn't converged yet.\n",
      "  % self.max_iter, ConvergenceWarning)\n"
     ]
    },
    {
     "name": "stdout",
     "output_type": "stream",
     "text": [
      "Accuracy: 0.492212925869465\n",
      "Run time: 2376.5975630283356\n"
     ]
    }
   ],
   "source": [
    "from sklearn.neural_network import MLPClassifier\n",
    "start = time.time()\n",
    "mlp = MLPClassifier()\n",
    "mlp.fit(X_train, y_train)\n",
    "print('Accuracy: ' + str(mlp.score(X_test, y_test)))\n",
    "end = time.time()\n",
    "print('Run time: ' + str(end - start))"
   ]
  },
  {
   "cell_type": "markdown",
   "metadata": {},
   "source": [
    "1. MLPClassifier\n",
    "2. Logistic Regression Model\n",
    "3. Support Vector Model\n",
    "    (I had to kill the gradient boost, my low spec laptop couldn't cope with this algorithm and the number of rows.) \n",
    "4. Neural Net Model\n",
    "5. Random Forest Classifier\n",
    "6. Decision Tree Classifier"
   ]
  },
  {
   "cell_type": "code",
   "execution_count": null,
   "metadata": {},
   "outputs": [],
   "source": []
  }
 ],
 "metadata": {
  "kernelspec": {
   "display_name": "Python 3",
   "language": "python",
   "name": "python3"
  },
  "language_info": {
   "codemirror_mode": {
    "name": "ipython",
    "version": 3
   },
   "file_extension": ".py",
   "mimetype": "text/x-python",
   "name": "python",
   "nbconvert_exporter": "python",
   "pygments_lexer": "ipython3",
   "version": "3.7.1"
  }
 },
 "nbformat": 4,
 "nbformat_minor": 2
}
